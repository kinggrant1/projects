{
 "cells": [
  {
   "cell_type": "markdown",
   "id": "eba14650-fdbc-450a-8da2-e74fc0066838",
   "metadata": {
    "tags": []
   },
   "source": [
    "Grant King"
   ]
  },
  {
   "cell_type": "markdown",
   "id": "b411fdaf-9e2e-439f-b5f5-6af2a3ba9073",
   "metadata": {},
   "source": [
    "# Scraped the data from the [Pepperstone ATP Rankings](https://www.atptour.com/en/rankings/singles?rankRange=1-5000&rankDate=2023-01-02). Data current as of 01/07/2023. The website's table provides us with the player names, ranks, and ages, as well as the ATP points and tournaments played for the year. Also, each row of the website's table links to the player's individual profile, which must also be scraped to provide us with their year turned pro, weight, height, birthplace, playstyle, coach, and federation."
   ]
  },
  {
   "cell_type": "code",
   "execution_count": 1,
   "id": "67b752a1-f5f3-4941-92ee-9dca417cc431",
   "metadata": {},
   "outputs": [],
   "source": [
    "import pandas as pd\n",
    "import numpy as np\n",
    "import matplotlib.pyplot as plt\n",
    "import seaborn as sns\n",
    "import requests\n",
    "from bs4 import BeautifulSoup as bs\n",
    "import warnings\n",
    "warnings.filterwarnings('ignore')"
   ]
  },
  {
   "cell_type": "code",
   "execution_count": null,
   "id": "45b4f478-d0c1-47e8-b765-02e492707e71",
   "metadata": {},
   "outputs": [],
   "source": [
    "r = requests.get('https://www.atptour.com/en/rankings/singles?rankRange=1-5000&rankDate=2023-01-02')\n",
    "soup = bs(r.content)\n",
    "\n",
    "table = soup.find('table')\n",
    "table_headers = table.find_all('th')\n",
    "columns = []\n",
    "\n",
    "for table_header in table_headers:\n",
    "    columns.append(table_header.get_text().strip())"
   ]
  },
  {
   "cell_type": "code",
   "execution_count": null,
   "id": "501a02b1-92d3-46ac-83b4-24eee27158f2",
   "metadata": {},
   "outputs": [],
   "source": [
    "table_rows = table.find_all('tr')[1:1001]\n",
    "rows = []\n",
    "\n",
    "for table_row in table_rows:\n",
    "    cells = table_row.find_all('td')\n",
    "    row = [cell.get_text().strip() for cell in cells]\n",
    "    rows.append(row)"
   ]
  },
  {
   "cell_type": "code",
   "execution_count": null,
   "id": "10301f91-daff-4d91-8d8d-43fd2836771d",
   "metadata": {},
   "outputs": [],
   "source": [
    "links = []\n",
    "\n",
    "for table_row in table_rows:\n",
    "    link = table_row.find('a')['href']\n",
    "    links.append(link)"
   ]
  },
  {
   "cell_type": "code",
   "execution_count": null,
   "id": "5acaa5d8-bdc5-4d85-aaa0-7f3031f4ff17",
   "metadata": {},
   "outputs": [],
   "source": [
    "# I ran this iteratively instead of as is while constructing the final table\n",
    "rows_continued = []\n",
    "\n",
    "for link in links:\n",
    "    r = requests.get('https://www.atptour.com' + link)\n",
    "    soup = bs(r.content)\n",
    "    \n",
    "    federation = soup.find('div', attrs={'class': 'player-flag-code'})\n",
    "    \n",
    "    if federation:\n",
    "        federation = federation.string\n",
    "    else:\n",
    "        federation = ''\n",
    "    \n",
    "    table = soup.find('table')\n",
    "    \n",
    "    cells = table.find_all('td')[1:-1]\n",
    "    \n",
    "    row_continued = [cell.get_text().replace('\\n', '').replace('\\r', '') for cell in cells]\n",
    "    \n",
    "    row_continued[0] = row_continued[0].replace('Turned Pro', '').strip()\n",
    "    row_continued[1] = row_continued[1].split('l')[0].replace('Weight', '')\n",
    "    height = row_continued[2].split(\"\\'\")\n",
    "    \n",
    "    try:\n",
    "        row_continued[2] = int(height[0][-1]) * 12 + int(height[1].split('\"')[0])\n",
    "    except:\n",
    "        row_continued[2] = ''\n",
    "    \n",
    "    row_continued[3] = row_continued[3].replace('Birthplace', '').strip()\n",
    "    row_continued[4] = row_continued[4].replace('Plays', '').strip()\n",
    "    row_continued[5] = row_continued[5].replace('Coach', '').strip()\n",
    "    \n",
    "    row_continued.append(federation)\n",
    "    rows_continued.append(row_continued)"
   ]
  },
  {
   "cell_type": "code",
   "execution_count": null,
   "id": "5103f33d-e081-4a3c-97c0-9b92bc9b41c1",
   "metadata": {},
   "outputs": [],
   "source": [
    "pd.set_option('display.max_colwidth', None)\n",
    "pd.set_option('display.max_rows', None)\n",
    "\n",
    "df = pd.DataFrame(rows, columns=columns)\n",
    "df2 = pd.DataFrame(rows_continued, columns=['Turned Pro', 'Weight', 'Height', 'Birthplace', 'Plays', 'Coach', 'Federation'])\n",
    "df = pd.concat([df, df2], axis=1)\n",
    "\n",
    "df.to_csv('Scraped - Association of Tennis Professionals top 1000 singles players', index=False) # Scraped table in GitHub"
   ]
  },
  {
   "cell_type": "markdown",
   "id": "ebb1565c-76ce-491a-9787-f266f7fe3e8f",
   "metadata": {
    "tags": []
   },
   "source": [
    "# Beginning of exploratory analysis"
   ]
  },
  {
   "cell_type": "code",
   "execution_count": 2,
   "id": "66b24944-bb96-45e2-b154-57320f754ccb",
   "metadata": {},
   "outputs": [
    {
     "data": {
      "text/html": [
       "<div>\n",
       "<style scoped>\n",
       "    .dataframe tbody tr th:only-of-type {\n",
       "        vertical-align: middle;\n",
       "    }\n",
       "\n",
       "    .dataframe tbody tr th {\n",
       "        vertical-align: top;\n",
       "    }\n",
       "\n",
       "    .dataframe thead th {\n",
       "        text-align: right;\n",
       "    }\n",
       "</style>\n",
       "<table border=\"1\" class=\"dataframe\">\n",
       "  <thead>\n",
       "    <tr style=\"text-align: right;\">\n",
       "      <th></th>\n",
       "      <th>Rank</th>\n",
       "      <th>+/- Rank</th>\n",
       "      <th>Unnamed: 2</th>\n",
       "      <th>Player</th>\n",
       "      <th>Age</th>\n",
       "      <th>Points</th>\n",
       "      <th>+/- Points</th>\n",
       "      <th>Tourn Played</th>\n",
       "      <th>Dropping</th>\n",
       "      <th>Next Best</th>\n",
       "      <th>Turned Pro</th>\n",
       "      <th>Weight</th>\n",
       "      <th>Height</th>\n",
       "      <th>Birthplace</th>\n",
       "      <th>Plays</th>\n",
       "      <th>Coach</th>\n",
       "      <th>Federation</th>\n",
       "    </tr>\n",
       "  </thead>\n",
       "  <tbody>\n",
       "    <tr>\n",
       "      <th>0</th>\n",
       "      <td>1</td>\n",
       "      <td>NaN</td>\n",
       "      <td>NaN</td>\n",
       "      <td>Carlos Alcaraz</td>\n",
       "      <td>19.0</td>\n",
       "      <td>6820</td>\n",
       "      <td>NaN</td>\n",
       "      <td>17</td>\n",
       "      <td>0</td>\n",
       "      <td>0</td>\n",
       "      <td>2018.0</td>\n",
       "      <td>163.0</td>\n",
       "      <td>72.0</td>\n",
       "      <td>El Palmar, Murcia, Spain</td>\n",
       "      <td>Right-Handed, Two-Handed Backhand</td>\n",
       "      <td>Juan Carlos Ferrero</td>\n",
       "      <td>ESP</td>\n",
       "    </tr>\n",
       "    <tr>\n",
       "      <th>1</th>\n",
       "      <td>2</td>\n",
       "      <td>NaN</td>\n",
       "      <td>NaN</td>\n",
       "      <td>Rafael Nadal</td>\n",
       "      <td>36.0</td>\n",
       "      <td>6020</td>\n",
       "      <td>NaN</td>\n",
       "      <td>14</td>\n",
       "      <td>250</td>\n",
       "      <td>0</td>\n",
       "      <td>2001.0</td>\n",
       "      <td>187.0</td>\n",
       "      <td>73.0</td>\n",
       "      <td>Manacor, Mallorca, Spain</td>\n",
       "      <td>Left-Handed, Two-Handed Backhand</td>\n",
       "      <td>Carlos Moya, Marc Lopez, Gustavo Marcaccio</td>\n",
       "      <td>ESP</td>\n",
       "    </tr>\n",
       "    <tr>\n",
       "      <th>2</th>\n",
       "      <td>3</td>\n",
       "      <td>NaN</td>\n",
       "      <td>NaN</td>\n",
       "      <td>Casper Ruud</td>\n",
       "      <td>24.0</td>\n",
       "      <td>5820</td>\n",
       "      <td>NaN</td>\n",
       "      <td>23</td>\n",
       "      <td>125</td>\n",
       "      <td>0</td>\n",
       "      <td>2015.0</td>\n",
       "      <td>170.0</td>\n",
       "      <td>72.0</td>\n",
       "      <td>Oslo, Norway</td>\n",
       "      <td>Right-Handed, Two-Handed Backhand</td>\n",
       "      <td>Christian Ruud</td>\n",
       "      <td>NOR</td>\n",
       "    </tr>\n",
       "    <tr>\n",
       "      <th>3</th>\n",
       "      <td>4</td>\n",
       "      <td>NaN</td>\n",
       "      <td>NaN</td>\n",
       "      <td>Stefanos Tsitsipas</td>\n",
       "      <td>24.0</td>\n",
       "      <td>5550</td>\n",
       "      <td>NaN</td>\n",
       "      <td>23</td>\n",
       "      <td>60</td>\n",
       "      <td>45</td>\n",
       "      <td>2016.0</td>\n",
       "      <td>198.0</td>\n",
       "      <td>76.0</td>\n",
       "      <td>Athens, Greece</td>\n",
       "      <td>Right-Handed, One-Handed Backhand</td>\n",
       "      <td>Apostolos Tsitsipas</td>\n",
       "      <td>GRE</td>\n",
       "    </tr>\n",
       "    <tr>\n",
       "      <th>4</th>\n",
       "      <td>5</td>\n",
       "      <td>NaN</td>\n",
       "      <td>NaN</td>\n",
       "      <td>Novak Djokovic</td>\n",
       "      <td>35.0</td>\n",
       "      <td>4820</td>\n",
       "      <td>NaN</td>\n",
       "      <td>14</td>\n",
       "      <td>0</td>\n",
       "      <td>0</td>\n",
       "      <td>2003.0</td>\n",
       "      <td>170.0</td>\n",
       "      <td>74.0</td>\n",
       "      <td>Belgrade, Serbia</td>\n",
       "      <td>Right-Handed, Two-Handed Backhand</td>\n",
       "      <td>Goran Ivanisevic</td>\n",
       "      <td>SRB</td>\n",
       "    </tr>\n",
       "  </tbody>\n",
       "</table>\n",
       "</div>"
      ],
      "text/plain": [
       "  Rank  +/- Rank  Unnamed: 2              Player   Age  Points  +/- Points  \\\n",
       "0    1       NaN         NaN      Carlos Alcaraz  19.0    6820         NaN   \n",
       "1    2       NaN         NaN        Rafael Nadal  36.0    6020         NaN   \n",
       "2    3       NaN         NaN         Casper Ruud  24.0    5820         NaN   \n",
       "3    4       NaN         NaN  Stefanos Tsitsipas  24.0    5550         NaN   \n",
       "4    5       NaN         NaN      Novak Djokovic  35.0    4820         NaN   \n",
       "\n",
       "   Tourn Played  Dropping  Next Best  Turned Pro  Weight  Height  \\\n",
       "0            17         0          0      2018.0   163.0    72.0   \n",
       "1            14       250          0      2001.0   187.0    73.0   \n",
       "2            23       125          0      2015.0   170.0    72.0   \n",
       "3            23        60         45      2016.0   198.0    76.0   \n",
       "4            14         0          0      2003.0   170.0    74.0   \n",
       "\n",
       "                 Birthplace                              Plays  \\\n",
       "0  El Palmar, Murcia, Spain  Right-Handed, Two-Handed Backhand   \n",
       "1  Manacor, Mallorca, Spain   Left-Handed, Two-Handed Backhand   \n",
       "2              Oslo, Norway  Right-Handed, Two-Handed Backhand   \n",
       "3            Athens, Greece  Right-Handed, One-Handed Backhand   \n",
       "4          Belgrade, Serbia  Right-Handed, Two-Handed Backhand   \n",
       "\n",
       "                                        Coach Federation  \n",
       "0                         Juan Carlos Ferrero        ESP  \n",
       "1  Carlos Moya, Marc Lopez, Gustavo Marcaccio        ESP  \n",
       "2                              Christian Ruud        NOR  \n",
       "3                         Apostolos Tsitsipas        GRE  \n",
       "4                            Goran Ivanisevic        SRB  "
      ]
     },
     "execution_count": 2,
     "metadata": {},
     "output_type": "execute_result"
    }
   ],
   "source": [
    "df = pd.read_csv('Scraped - Association of Tennis Professionals top 1000 singles players', thousands=',')\n",
    "\n",
    "df.head()"
   ]
  },
  {
   "cell_type": "code",
   "execution_count": 3,
   "id": "1a99a765-cdbc-4985-9845-17adf51ce434",
   "metadata": {},
   "outputs": [
    {
     "data": {
      "text/html": [
       "<div>\n",
       "<style scoped>\n",
       "    .dataframe tbody tr th:only-of-type {\n",
       "        vertical-align: middle;\n",
       "    }\n",
       "\n",
       "    .dataframe tbody tr th {\n",
       "        vertical-align: top;\n",
       "    }\n",
       "\n",
       "    .dataframe thead th {\n",
       "        text-align: right;\n",
       "    }\n",
       "</style>\n",
       "<table border=\"1\" class=\"dataframe\">\n",
       "  <thead>\n",
       "    <tr style=\"text-align: right;\">\n",
       "      <th></th>\n",
       "      <th>Rank</th>\n",
       "      <th>+/- Rank</th>\n",
       "      <th>Unnamed: 2</th>\n",
       "      <th>Player</th>\n",
       "      <th>Age</th>\n",
       "      <th>Points</th>\n",
       "      <th>+/- Points</th>\n",
       "      <th>Tourn Played</th>\n",
       "      <th>Dropping</th>\n",
       "      <th>Next Best</th>\n",
       "      <th>Turned Pro</th>\n",
       "      <th>Weight</th>\n",
       "      <th>Height</th>\n",
       "      <th>Birthplace</th>\n",
       "      <th>Plays</th>\n",
       "      <th>Coach</th>\n",
       "      <th>Federation</th>\n",
       "    </tr>\n",
       "  </thead>\n",
       "  <tbody>\n",
       "    <tr>\n",
       "      <th>995</th>\n",
       "      <td>996</td>\n",
       "      <td>NaN</td>\n",
       "      <td>NaN</td>\n",
       "      <td>Fabio Coelho</td>\n",
       "      <td>22.0</td>\n",
       "      <td>11</td>\n",
       "      <td>NaN</td>\n",
       "      <td>14</td>\n",
       "      <td>0</td>\n",
       "      <td>0</td>\n",
       "      <td>NaN</td>\n",
       "      <td>151.0</td>\n",
       "      <td>69.0</td>\n",
       "      <td>Oliveira de Azeméis</td>\n",
       "      <td>Right-Handed, Two-Handed Backhand</td>\n",
       "      <td>João Maio, Eduardo Rodrigues</td>\n",
       "      <td>POR</td>\n",
       "    </tr>\n",
       "    <tr>\n",
       "      <th>996</th>\n",
       "      <td>997</td>\n",
       "      <td>NaN</td>\n",
       "      <td>NaN</td>\n",
       "      <td>Guy Orly Iradukunda</td>\n",
       "      <td>26.0</td>\n",
       "      <td>11</td>\n",
       "      <td>NaN</td>\n",
       "      <td>15</td>\n",
       "      <td>0</td>\n",
       "      <td>0</td>\n",
       "      <td>NaN</td>\n",
       "      <td>167.0</td>\n",
       "      <td>0.0</td>\n",
       "      <td>Gitega</td>\n",
       "      <td>Right-Handed, Unknown Backhand</td>\n",
       "      <td>NaN</td>\n",
       "      <td>BDI</td>\n",
       "    </tr>\n",
       "    <tr>\n",
       "      <th>997</th>\n",
       "      <td>998</td>\n",
       "      <td>NaN</td>\n",
       "      <td>NaN</td>\n",
       "      <td>Sebastian Sorger</td>\n",
       "      <td>17.0</td>\n",
       "      <td>11</td>\n",
       "      <td>NaN</td>\n",
       "      <td>15</td>\n",
       "      <td>0</td>\n",
       "      <td>0</td>\n",
       "      <td>NaN</td>\n",
       "      <td>NaN</td>\n",
       "      <td>NaN</td>\n",
       "      <td>NaN</td>\n",
       "      <td>Right-Handed, Unknown Backhand</td>\n",
       "      <td>NaN</td>\n",
       "      <td>AUT</td>\n",
       "    </tr>\n",
       "    <tr>\n",
       "      <th>998</th>\n",
       "      <td>999</td>\n",
       "      <td>NaN</td>\n",
       "      <td>NaN</td>\n",
       "      <td>Ignasi De Rueda De Genover</td>\n",
       "      <td>24.0</td>\n",
       "      <td>11</td>\n",
       "      <td>NaN</td>\n",
       "      <td>17</td>\n",
       "      <td>0</td>\n",
       "      <td>0</td>\n",
       "      <td>NaN</td>\n",
       "      <td>165.0</td>\n",
       "      <td>72.0</td>\n",
       "      <td>Barcelona, Spain</td>\n",
       "      <td>Right-Handed, Two-Handed Backhand</td>\n",
       "      <td>NaN</td>\n",
       "      <td>ESP</td>\n",
       "    </tr>\n",
       "    <tr>\n",
       "      <th>999</th>\n",
       "      <td>1000</td>\n",
       "      <td>NaN</td>\n",
       "      <td>NaN</td>\n",
       "      <td>Isaiah Strode</td>\n",
       "      <td>25.0</td>\n",
       "      <td>11</td>\n",
       "      <td>NaN</td>\n",
       "      <td>17</td>\n",
       "      <td>0</td>\n",
       "      <td>0</td>\n",
       "      <td>NaN</td>\n",
       "      <td>165.0</td>\n",
       "      <td>72.0</td>\n",
       "      <td>San Diego</td>\n",
       "      <td>Right-Handed, Two-Handed Backhand</td>\n",
       "      <td>NaN</td>\n",
       "      <td>USA</td>\n",
       "    </tr>\n",
       "  </tbody>\n",
       "</table>\n",
       "</div>"
      ],
      "text/plain": [
       "     Rank  +/- Rank  Unnamed: 2                      Player   Age  Points  \\\n",
       "995   996       NaN         NaN                Fabio Coelho  22.0      11   \n",
       "996   997       NaN         NaN         Guy Orly Iradukunda  26.0      11   \n",
       "997   998       NaN         NaN            Sebastian Sorger  17.0      11   \n",
       "998   999       NaN         NaN  Ignasi De Rueda De Genover  24.0      11   \n",
       "999  1000       NaN         NaN               Isaiah Strode  25.0      11   \n",
       "\n",
       "     +/- Points  Tourn Played  Dropping  Next Best  Turned Pro  Weight  \\\n",
       "995         NaN            14         0          0         NaN   151.0   \n",
       "996         NaN            15         0          0         NaN   167.0   \n",
       "997         NaN            15         0          0         NaN     NaN   \n",
       "998         NaN            17         0          0         NaN   165.0   \n",
       "999         NaN            17         0          0         NaN   165.0   \n",
       "\n",
       "     Height           Birthplace                              Plays  \\\n",
       "995    69.0  Oliveira de Azeméis  Right-Handed, Two-Handed Backhand   \n",
       "996     0.0               Gitega     Right-Handed, Unknown Backhand   \n",
       "997     NaN                  NaN     Right-Handed, Unknown Backhand   \n",
       "998    72.0     Barcelona, Spain  Right-Handed, Two-Handed Backhand   \n",
       "999    72.0            San Diego  Right-Handed, Two-Handed Backhand   \n",
       "\n",
       "                            Coach Federation  \n",
       "995  João Maio, Eduardo Rodrigues        POR  \n",
       "996                           NaN        BDI  \n",
       "997                           NaN        AUT  \n",
       "998                           NaN        ESP  \n",
       "999                           NaN        USA  "
      ]
     },
     "execution_count": 3,
     "metadata": {},
     "output_type": "execute_result"
    }
   ],
   "source": [
    "df.tail()"
   ]
  },
  {
   "cell_type": "code",
   "execution_count": 4,
   "id": "0ae6fe47-75da-4951-936b-5bf2a52f04ba",
   "metadata": {},
   "outputs": [
    {
     "data": {
      "text/plain": [
       "Rank               0\n",
       "+/- Rank         516\n",
       "Unnamed: 2      1000\n",
       "Player             0\n",
       "Age                1\n",
       "Points             0\n",
       "+/- Points       947\n",
       "Tourn Played       0\n",
       "Dropping           0\n",
       "Next Best          0\n",
       "Turned Pro       630\n",
       "Weight            90\n",
       "Height            94\n",
       "Birthplace        86\n",
       "Plays             62\n",
       "Coach            346\n",
       "Federation        36\n",
       "dtype: int64"
      ]
     },
     "execution_count": 4,
     "metadata": {},
     "output_type": "execute_result"
    }
   ],
   "source": [
    "df.isnull().sum()"
   ]
  },
  {
   "cell_type": "markdown",
   "id": "64e381eb-aca9-4916-bc31-88a5c1e59876",
   "metadata": {},
   "source": [
    "# Cleaning the data"
   ]
  },
  {
   "cell_type": "code",
   "execution_count": 5,
   "id": "b3b4273a-746b-4c46-8d0c-54fdaffb165c",
   "metadata": {},
   "outputs": [
    {
     "data": {
      "text/plain": [
       "(1000, 12)"
      ]
     },
     "execution_count": 5,
     "metadata": {},
     "output_type": "execute_result"
    }
   ],
   "source": [
    "df.drop(columns=['Unnamed: 2', '+/- Rank', '+/- Points', 'Dropping', 'Next Best'], inplace=True)\n",
    "df.shape"
   ]
  },
  {
   "cell_type": "markdown",
   "id": "13acbfba-8b69-41fa-b74e-b46dc06f02b2",
   "metadata": {},
   "source": [
    "### Observations: It appears an age was missed while scraping, as well as 4 heights (assuming the other 90 are unlisted on the website). Also, the points and tournaments played data aren't floats. Manually checking those:"
   ]
  },
  {
   "cell_type": "code",
   "execution_count": 6,
   "id": "d440402d-5983-4421-9e4c-42945880eaf5",
   "metadata": {},
   "outputs": [
    {
     "data": {
      "text/html": [
       "<div>\n",
       "<style scoped>\n",
       "    .dataframe tbody tr th:only-of-type {\n",
       "        vertical-align: middle;\n",
       "    }\n",
       "\n",
       "    .dataframe tbody tr th {\n",
       "        vertical-align: top;\n",
       "    }\n",
       "\n",
       "    .dataframe thead th {\n",
       "        text-align: right;\n",
       "    }\n",
       "</style>\n",
       "<table border=\"1\" class=\"dataframe\">\n",
       "  <thead>\n",
       "    <tr style=\"text-align: right;\">\n",
       "      <th></th>\n",
       "      <th>Rank</th>\n",
       "      <th>Player</th>\n",
       "      <th>Age</th>\n",
       "      <th>Points</th>\n",
       "      <th>Tourn Played</th>\n",
       "      <th>Turned Pro</th>\n",
       "      <th>Weight</th>\n",
       "      <th>Height</th>\n",
       "      <th>Birthplace</th>\n",
       "      <th>Plays</th>\n",
       "      <th>Coach</th>\n",
       "      <th>Federation</th>\n",
       "    </tr>\n",
       "  </thead>\n",
       "  <tbody>\n",
       "    <tr>\n",
       "      <th>985</th>\n",
       "      <td>986</td>\n",
       "      <td>Luca Wiedenmann</td>\n",
       "      <td>NaN</td>\n",
       "      <td>11.0</td>\n",
       "      <td>6.0</td>\n",
       "      <td>NaN</td>\n",
       "      <td>NaN</td>\n",
       "      <td>NaN</td>\n",
       "      <td>NaN</td>\n",
       "      <td>NaN</td>\n",
       "      <td>NaN</td>\n",
       "      <td>GER</td>\n",
       "    </tr>\n",
       "  </tbody>\n",
       "</table>\n",
       "</div>"
      ],
      "text/plain": [
       "    Rank           Player  Age  Points  Tourn Played  Turned Pro  Weight  \\\n",
       "985  986  Luca Wiedenmann  NaN    11.0           6.0         NaN     NaN   \n",
       "\n",
       "     Height Birthplace Plays Coach Federation  \n",
       "985     NaN        NaN   NaN   NaN        GER  "
      ]
     },
     "execution_count": 6,
     "metadata": {},
     "output_type": "execute_result"
    }
   ],
   "source": [
    "df.Points = df.Points.astype('float64')\n",
    "df['Tourn Played'] = df['Tourn Played'].astype('float64')\n",
    "\n",
    "df.loc[df.Age.isnull() == True]"
   ]
  },
  {
   "cell_type": "markdown",
   "id": "09334d48-bb68-479c-b6f3-b845a7eec4a6",
   "metadata": {},
   "source": [
    "### This player's age is actually [unlisted](https://www.atptour.com/en/players/luca-wiedenmann/w09t/overview)."
   ]
  },
  {
   "cell_type": "code",
   "execution_count": 7,
   "id": "752e9bbf-1ccd-46ce-9103-8d3af50a389e",
   "metadata": {},
   "outputs": [
    {
     "data": {
      "text/html": [
       "<div>\n",
       "<style scoped>\n",
       "    .dataframe tbody tr th:only-of-type {\n",
       "        vertical-align: middle;\n",
       "    }\n",
       "\n",
       "    .dataframe tbody tr th {\n",
       "        vertical-align: top;\n",
       "    }\n",
       "\n",
       "    .dataframe thead th {\n",
       "        text-align: right;\n",
       "    }\n",
       "</style>\n",
       "<table border=\"1\" class=\"dataframe\">\n",
       "  <thead>\n",
       "    <tr style=\"text-align: right;\">\n",
       "      <th></th>\n",
       "      <th>Rank</th>\n",
       "      <th>Player</th>\n",
       "      <th>Age</th>\n",
       "      <th>Points</th>\n",
       "      <th>Tourn Played</th>\n",
       "      <th>Turned Pro</th>\n",
       "      <th>Weight</th>\n",
       "      <th>Height</th>\n",
       "      <th>Birthplace</th>\n",
       "      <th>Plays</th>\n",
       "      <th>Coach</th>\n",
       "      <th>Federation</th>\n",
       "    </tr>\n",
       "  </thead>\n",
       "  <tbody>\n",
       "    <tr>\n",
       "      <th>170</th>\n",
       "      <td>171</td>\n",
       "      <td>Flavio Cobolli</td>\n",
       "      <td>20.0</td>\n",
       "      <td>335.0</td>\n",
       "      <td>30.0</td>\n",
       "      <td>2020.0</td>\n",
       "      <td>156.0</td>\n",
       "      <td>NaN</td>\n",
       "      <td>Florence, Italy</td>\n",
       "      <td>Right-Handed, Two-Handed Backhand</td>\n",
       "      <td>Stefano Cobolli</td>\n",
       "      <td>ITA</td>\n",
       "    </tr>\n",
       "    <tr>\n",
       "      <th>237</th>\n",
       "      <td>238</td>\n",
       "      <td>Roman Andres Burruchaga</td>\n",
       "      <td>20.0</td>\n",
       "      <td>229.0</td>\n",
       "      <td>30.0</td>\n",
       "      <td>NaN</td>\n",
       "      <td>176.0</td>\n",
       "      <td>NaN</td>\n",
       "      <td>Buenos Aires, Argentina</td>\n",
       "      <td>Right-Handed, Unknown Backhand</td>\n",
       "      <td>Mariano Hood</td>\n",
       "      <td>ARG</td>\n",
       "    </tr>\n",
       "    <tr>\n",
       "      <th>286</th>\n",
       "      <td>287</td>\n",
       "      <td>Joao Domingues</td>\n",
       "      <td>29.0</td>\n",
       "      <td>179.0</td>\n",
       "      <td>26.0</td>\n",
       "      <td>2013.0</td>\n",
       "      <td>154.0</td>\n",
       "      <td>NaN</td>\n",
       "      <td>Oliveira de Azemeis, Portugal</td>\n",
       "      <td>Right-Handed, Two-Handed Backhand</td>\n",
       "      <td>Joao Antunes, Andre Podalka</td>\n",
       "      <td>POR</td>\n",
       "    </tr>\n",
       "    <tr>\n",
       "      <th>318</th>\n",
       "      <td>319</td>\n",
       "      <td>Shintaro Mochizuki</td>\n",
       "      <td>19.0</td>\n",
       "      <td>159.0</td>\n",
       "      <td>25.0</td>\n",
       "      <td>NaN</td>\n",
       "      <td>154.0</td>\n",
       "      <td>NaN</td>\n",
       "      <td>Kawasaki, Japan</td>\n",
       "      <td>Right-Handed, Two-Handed Backhand</td>\n",
       "      <td>NaN</td>\n",
       "      <td>JPN</td>\n",
       "    </tr>\n",
       "    <tr>\n",
       "      <th>357</th>\n",
       "      <td>358</td>\n",
       "      <td>Daniel Cukierman</td>\n",
       "      <td>27.0</td>\n",
       "      <td>132.0</td>\n",
       "      <td>24.0</td>\n",
       "      <td>NaN</td>\n",
       "      <td>154.0</td>\n",
       "      <td>NaN</td>\n",
       "      <td>Tel Aviv, Israel</td>\n",
       "      <td>Right-Handed, Two-Handed Backhand</td>\n",
       "      <td>NaN</td>\n",
       "      <td>ISR</td>\n",
       "    </tr>\n",
       "    <tr>\n",
       "      <th>889</th>\n",
       "      <td>890</td>\n",
       "      <td>Juan Manuel Benitez Chavarriaga</td>\n",
       "      <td>27.0</td>\n",
       "      <td>15.0</td>\n",
       "      <td>7.0</td>\n",
       "      <td>NaN</td>\n",
       "      <td>170.0</td>\n",
       "      <td>NaN</td>\n",
       "      <td>Medellin, Colombia</td>\n",
       "      <td>Right-Handed, Two-Handed Backhand</td>\n",
       "      <td>Jean-Luc Fontanot</td>\n",
       "      <td>COL</td>\n",
       "    </tr>\n",
       "  </tbody>\n",
       "</table>\n",
       "</div>"
      ],
      "text/plain": [
       "    Rank                           Player   Age  Points  Tourn Played  \\\n",
       "170  171                   Flavio Cobolli  20.0   335.0          30.0   \n",
       "237  238          Roman Andres Burruchaga  20.0   229.0          30.0   \n",
       "286  287                   Joao Domingues  29.0   179.0          26.0   \n",
       "318  319               Shintaro Mochizuki  19.0   159.0          25.0   \n",
       "357  358                 Daniel Cukierman  27.0   132.0          24.0   \n",
       "889  890  Juan Manuel Benitez Chavarriaga  27.0    15.0           7.0   \n",
       "\n",
       "     Turned Pro  Weight  Height                     Birthplace  \\\n",
       "170      2020.0   156.0     NaN                Florence, Italy   \n",
       "237         NaN   176.0     NaN        Buenos Aires, Argentina   \n",
       "286      2013.0   154.0     NaN  Oliveira de Azemeis, Portugal   \n",
       "318         NaN   154.0     NaN                Kawasaki, Japan   \n",
       "357         NaN   154.0     NaN               Tel Aviv, Israel   \n",
       "889         NaN   170.0     NaN             Medellin, Colombia   \n",
       "\n",
       "                                 Plays                        Coach Federation  \n",
       "170  Right-Handed, Two-Handed Backhand              Stefano Cobolli        ITA  \n",
       "237     Right-Handed, Unknown Backhand                 Mariano Hood        ARG  \n",
       "286  Right-Handed, Two-Handed Backhand  Joao Antunes, Andre Podalka        POR  \n",
       "318  Right-Handed, Two-Handed Backhand                          NaN        JPN  \n",
       "357  Right-Handed, Two-Handed Backhand                          NaN        ISR  \n",
       "889  Right-Handed, Two-Handed Backhand            Jean-Luc Fontanot        COL  "
      ]
     },
     "execution_count": 7,
     "metadata": {},
     "output_type": "execute_result"
    }
   ],
   "source": [
    "df.loc[(~df.Weight.isnull()) & (df.Height.isnull())]"
   ]
  },
  {
   "cell_type": "markdown",
   "id": "90df9a96-64a2-4986-99b6-39eaf31c522c",
   "metadata": {},
   "source": [
    "### These players' heights are actually unlisted. Double checking if there are missing weights:"
   ]
  },
  {
   "cell_type": "code",
   "execution_count": 8,
   "id": "30dcfcd3-759a-481a-9e1b-4a94ba5d7e64",
   "metadata": {},
   "outputs": [
    {
     "data": {
      "text/html": [
       "<div>\n",
       "<style scoped>\n",
       "    .dataframe tbody tr th:only-of-type {\n",
       "        vertical-align: middle;\n",
       "    }\n",
       "\n",
       "    .dataframe tbody tr th {\n",
       "        vertical-align: top;\n",
       "    }\n",
       "\n",
       "    .dataframe thead th {\n",
       "        text-align: right;\n",
       "    }\n",
       "</style>\n",
       "<table border=\"1\" class=\"dataframe\">\n",
       "  <thead>\n",
       "    <tr style=\"text-align: right;\">\n",
       "      <th></th>\n",
       "      <th>Rank</th>\n",
       "      <th>Player</th>\n",
       "      <th>Age</th>\n",
       "      <th>Points</th>\n",
       "      <th>Tourn Played</th>\n",
       "      <th>Turned Pro</th>\n",
       "      <th>Weight</th>\n",
       "      <th>Height</th>\n",
       "      <th>Birthplace</th>\n",
       "      <th>Plays</th>\n",
       "      <th>Coach</th>\n",
       "      <th>Federation</th>\n",
       "    </tr>\n",
       "  </thead>\n",
       "  <tbody>\n",
       "    <tr>\n",
       "      <th>196</th>\n",
       "      <td>197</td>\n",
       "      <td>Kaichi Uchida</td>\n",
       "      <td>28.0</td>\n",
       "      <td>282.0</td>\n",
       "      <td>32.0</td>\n",
       "      <td>2012.0</td>\n",
       "      <td>NaN</td>\n",
       "      <td>71.0</td>\n",
       "      <td>NaN</td>\n",
       "      <td>Right-Handed, Two-Handed Backhand</td>\n",
       "      <td>Norberto Valsecchi</td>\n",
       "      <td>JPN</td>\n",
       "    </tr>\n",
       "    <tr>\n",
       "      <th>426</th>\n",
       "      <td>427</td>\n",
       "      <td>Juan Pablo Paz</td>\n",
       "      <td>27.0</td>\n",
       "      <td>104.0</td>\n",
       "      <td>27.0</td>\n",
       "      <td>NaN</td>\n",
       "      <td>NaN</td>\n",
       "      <td>67.0</td>\n",
       "      <td>NaN</td>\n",
       "      <td>Right-Handed, Two-Handed Backhand</td>\n",
       "      <td>Marcelo Garcia - Daniel Paz</td>\n",
       "      <td>ARG</td>\n",
       "    </tr>\n",
       "  </tbody>\n",
       "</table>\n",
       "</div>"
      ],
      "text/plain": [
       "    Rank          Player   Age  Points  Tourn Played  Turned Pro  Weight  \\\n",
       "196  197   Kaichi Uchida  28.0   282.0          32.0      2012.0     NaN   \n",
       "426  427  Juan Pablo Paz  27.0   104.0          27.0         NaN     NaN   \n",
       "\n",
       "     Height Birthplace                              Plays  \\\n",
       "196    71.0        NaN  Right-Handed, Two-Handed Backhand   \n",
       "426    67.0        NaN  Right-Handed, Two-Handed Backhand   \n",
       "\n",
       "                           Coach Federation  \n",
       "196           Norberto Valsecchi        JPN  \n",
       "426  Marcelo Garcia - Daniel Paz        ARG  "
      ]
     },
     "execution_count": 8,
     "metadata": {},
     "output_type": "execute_result"
    }
   ],
   "source": [
    "df.loc[(df.Weight.isnull()) & (~df.Height.isnull())]"
   ]
  },
  {
   "cell_type": "markdown",
   "id": "1e431468-e241-4800-bed7-50d6547af716",
   "metadata": {},
   "source": [
    "### These players' weights are unlisted. Weights and heights of 0 should be NaN, and obvious errors removed:"
   ]
  },
  {
   "cell_type": "code",
   "execution_count": 9,
   "id": "9efd495e-f81d-4c2f-897d-e3b5c66498b0",
   "metadata": {},
   "outputs": [
    {
     "data": {
      "text/html": [
       "<div>\n",
       "<style scoped>\n",
       "    .dataframe tbody tr th:only-of-type {\n",
       "        vertical-align: middle;\n",
       "    }\n",
       "\n",
       "    .dataframe tbody tr th {\n",
       "        vertical-align: top;\n",
       "    }\n",
       "\n",
       "    .dataframe thead th {\n",
       "        text-align: right;\n",
       "    }\n",
       "</style>\n",
       "<table border=\"1\" class=\"dataframe\">\n",
       "  <thead>\n",
       "    <tr style=\"text-align: right;\">\n",
       "      <th></th>\n",
       "      <th>Age</th>\n",
       "      <th>Points</th>\n",
       "      <th>Tourn Played</th>\n",
       "      <th>Turned Pro</th>\n",
       "      <th>Weight</th>\n",
       "      <th>Height</th>\n",
       "    </tr>\n",
       "  </thead>\n",
       "  <tbody>\n",
       "    <tr>\n",
       "      <th>count</th>\n",
       "      <td>999.000000</td>\n",
       "      <td>1000.000000</td>\n",
       "      <td>1000.000000</td>\n",
       "      <td>370.000000</td>\n",
       "      <td>904.000000</td>\n",
       "      <td>893.000000</td>\n",
       "    </tr>\n",
       "    <tr>\n",
       "      <th>mean</th>\n",
       "      <td>24.931932</td>\n",
       "      <td>242.997000</td>\n",
       "      <td>19.191000</td>\n",
       "      <td>2012.694595</td>\n",
       "      <td>172.332965</td>\n",
       "      <td>72.662934</td>\n",
       "    </tr>\n",
       "    <tr>\n",
       "      <th>std</th>\n",
       "      <td>4.512216</td>\n",
       "      <td>579.930724</td>\n",
       "      <td>6.992812</td>\n",
       "      <td>4.960683</td>\n",
       "      <td>14.534062</td>\n",
       "      <td>2.625236</td>\n",
       "    </tr>\n",
       "    <tr>\n",
       "      <th>min</th>\n",
       "      <td>16.000000</td>\n",
       "      <td>11.000000</td>\n",
       "      <td>1.000000</td>\n",
       "      <td>1997.000000</td>\n",
       "      <td>132.000000</td>\n",
       "      <td>61.000000</td>\n",
       "    </tr>\n",
       "    <tr>\n",
       "      <th>25%</th>\n",
       "      <td>22.000000</td>\n",
       "      <td>27.750000</td>\n",
       "      <td>14.000000</td>\n",
       "      <td>2009.000000</td>\n",
       "      <td>162.000000</td>\n",
       "      <td>71.000000</td>\n",
       "    </tr>\n",
       "    <tr>\n",
       "      <th>50%</th>\n",
       "      <td>24.000000</td>\n",
       "      <td>71.000000</td>\n",
       "      <td>20.000000</td>\n",
       "      <td>2013.000000</td>\n",
       "      <td>172.000000</td>\n",
       "      <td>73.000000</td>\n",
       "    </tr>\n",
       "    <tr>\n",
       "      <th>75%</th>\n",
       "      <td>28.000000</td>\n",
       "      <td>213.250000</td>\n",
       "      <td>24.000000</td>\n",
       "      <td>2016.000000</td>\n",
       "      <td>181.000000</td>\n",
       "      <td>74.000000</td>\n",
       "    </tr>\n",
       "    <tr>\n",
       "      <th>max</th>\n",
       "      <td>41.000000</td>\n",
       "      <td>6820.000000</td>\n",
       "      <td>39.000000</td>\n",
       "      <td>2022.000000</td>\n",
       "      <td>238.000000</td>\n",
       "      <td>83.000000</td>\n",
       "    </tr>\n",
       "  </tbody>\n",
       "</table>\n",
       "</div>"
      ],
      "text/plain": [
       "              Age       Points  Tourn Played   Turned Pro      Weight  \\\n",
       "count  999.000000  1000.000000   1000.000000   370.000000  904.000000   \n",
       "mean    24.931932   242.997000     19.191000  2012.694595  172.332965   \n",
       "std      4.512216   579.930724      6.992812     4.960683   14.534062   \n",
       "min     16.000000    11.000000      1.000000  1997.000000  132.000000   \n",
       "25%     22.000000    27.750000     14.000000  2009.000000  162.000000   \n",
       "50%     24.000000    71.000000     20.000000  2013.000000  172.000000   \n",
       "75%     28.000000   213.250000     24.000000  2016.000000  181.000000   \n",
       "max     41.000000  6820.000000     39.000000  2022.000000  238.000000   \n",
       "\n",
       "           Height  \n",
       "count  893.000000  \n",
       "mean    72.662934  \n",
       "std      2.625236  \n",
       "min     61.000000  \n",
       "25%     71.000000  \n",
       "50%     73.000000  \n",
       "75%     74.000000  \n",
       "max     83.000000  "
      ]
     },
     "execution_count": 9,
     "metadata": {},
     "output_type": "execute_result"
    }
   ],
   "source": [
    "df.Weight.replace(to_replace=0, value=np.nan, inplace=True)\n",
    "df.Height.replace(to_replace=0, value=np.nan, inplace=True)\n",
    "df.Weight.replace(to_replace=[75, 283, 290, 396], value=np.nan, inplace=True)\n",
    "df.Height.replace(to_replace=[1, 6, 25], value=np.nan, inplace=True)\n",
    "\n",
    "df.describe()"
   ]
  },
  {
   "cell_type": "markdown",
   "id": "aab51e73-398c-47dd-9fb4-752cebdd47b8",
   "metadata": {},
   "source": [
    "### Observations: The mean age of the top 1000 players is 24.9319, the youngest being 16 and the oldest being 41. The mean number of tournaments played this year is 19, the highest being 39. Of the players who went pro, the earliest year to do so is 1997. The mean weight is 172.3330, and the mean height 72.6629, the lowest being 5'01\" and the highest being 6'11."
   ]
  },
  {
   "cell_type": "code",
   "execution_count": 10,
   "id": "848a1d29-99c3-4f52-9ae8-f6f5c912dbba",
   "metadata": {},
   "outputs": [],
   "source": [
    "df.to_csv('Final - Association of Tennis Professionals top 1000 singles players', index=False) # Final table in GitHub"
   ]
  },
  {
   "cell_type": "markdown",
   "id": "0c92a8cd-b705-4f97-bd34-6ac7f03bac64",
   "metadata": {},
   "source": [
    "# Visualization"
   ]
  },
  {
   "cell_type": "markdown",
   "id": "8bef66f6-8d65-47b2-9f15-0efc21b8a2ce",
   "metadata": {},
   "source": [
    "### Question: *What is the correlation matrix of ATP points (which control rank), age, weight, and height?*"
   ]
  },
  {
   "cell_type": "code",
   "execution_count": 11,
   "id": "152b659b-d32e-4567-b023-99771419bb56",
   "metadata": {},
   "outputs": [
    {
     "data": {
      "image/png": "[encoded data removed]",
      "text/plain": [
       "<Figure size 640x480 with 2 Axes>"
      ]
     },
     "metadata": {},
     "output_type": "display_data"
    }
   ],
   "source": [
    "correlation = df.corr()\n",
    "correlation.drop(columns=['Tourn Played', 'Turned Pro'], inplace=True)\n",
    "correlation.drop(labels=['Tourn Played', 'Turned Pro'], axis=0, inplace=True)\n",
    "correlation\n",
    "\n",
    "heatmap = sns.heatmap(data=correlation, xticklabels=correlation.columns, yticklabels=correlation.columns, annot=True, cmap='crest')"
   ]
  },
  {
   "cell_type": "markdown",
   "id": "77d3d9d8-7e72-417a-b8a1-77fc8fe4e818",
   "metadata": {},
   "source": [
    "### There is a slightly stronger positive correlation between points and height than between points and weight (serving advantage is a consideration), but overall, tennis players of all ages, weights, and heights are spread evenly throughout the top 1000."
   ]
  },
  {
   "cell_type": "markdown",
   "id": "08d8ac05-cac1-471f-b403-b7769c8f2c74",
   "metadata": {},
   "source": [
    "### Question: *How do ATP points vary by the top 15 most popular federations?*"
   ]
  },
  {
   "cell_type": "code",
   "execution_count": 12,
   "id": "11eaaa6d-eefb-4227-95cd-5625b46fc003",
   "metadata": {},
   "outputs": [],
   "source": [
    "top_15 = df.groupby(['Federation']).count().sort_values('Rank', ascending=False).head(15).index.tolist()"
   ]
  },
  {
   "cell_type": "code",
   "execution_count": 13,
   "id": "51281c24-d586-45df-803a-b7391952e8c0",
   "metadata": {},
   "outputs": [],
   "source": [
    "new_df = df.copy(deep=True)\n",
    "\n",
    "for row, federation in enumerate(new_df.Federation):\n",
    "    if federation not in top_15:\n",
    "        new_df = new_df.drop(labels=row, axis=0)"
   ]
  },
  {
   "cell_type": "code",
   "execution_count": 14,
   "id": "e01bb8d3-daf9-452f-8ccb-a72c5b700428",
   "metadata": {},
   "outputs": [
    {
     "data": {
      "image/png": "[encoded data removed]",
      "text/plain": [
       "<Figure size 640x480 with 1 Axes>"
      ]
     },
     "metadata": {},
     "output_type": "display_data"
    }
   ],
   "source": [
    "strip_plot = sns.stripplot(data=new_df, x=new_df.Federation, y=new_df.Points, palette='husl')"
   ]
  },
  {
   "cell_type": "markdown",
   "id": "64f1db2f-a7ee-4c9c-97e3-9ba4d7e9e53c",
   "metadata": {},
   "source": [
    "### Spain is absolutely dominating the competition with powerful outliers like Carlos Alcaraz and Rafael Nadal."
   ]
  },
  {
   "cell_type": "markdown",
   "id": "d8bb85ff-88b9-4c94-9c52-2d29390eaee3",
   "metadata": {},
   "source": [
    "### Question: *What is the physical composition of the players on tour?*"
   ]
  },
  {
   "cell_type": "code",
   "execution_count": 15,
   "id": "67ba7c74-014f-4eb5-ba61-5bda07bf0168",
   "metadata": {},
   "outputs": [
    {
     "data": {
      "image/png": "[encoded data removed]",
      "text/plain": [
       "<Figure size 567.75x500 with 1 Axes>"
      ]
     },
     "metadata": {},
     "output_type": "display_data"
    }
   ],
   "source": [
    "scatterplot = sns.relplot(data=df, x=df.Weight, y=df.Height, size=df.Age)"
   ]
  },
  {
   "cell_type": "markdown",
   "id": "e965d618-67eb-4b58-ac00-c04ec86dd35c",
   "metadata": {},
   "source": [
    "### In the top 100, Diego Schwartzman is 5'7\" and rank 25, while Reilly Opelka is 6'11\" ranking 38th."
   ]
  },
  {
   "cell_type": "markdown",
   "id": "8ec097e3-7b94-419a-a9b3-b6207ddbaa1b",
   "metadata": {},
   "source": [
    "### Question: *What is the proportion of each backhand style among right-handed and left-handed players?*"
   ]
  },
  {
   "cell_type": "code",
   "execution_count": 16,
   "id": "63fcc452-3676-441f-83e4-0197b36b0523",
   "metadata": {},
   "outputs": [
    {
     "data": {
      "image/png": "[encoded data removed]",
      "text/plain": [
       "<Figure size 640x480 with 1 Axes>"
      ]
     },
     "metadata": {},
     "output_type": "display_data"
    }
   ],
   "source": [
    "counts = df.groupby('Plays').count()['Rank'].tolist()\n",
    "counts = counts[3:] + counts[:3]\n",
    "labels = ['RH, One-Handed Backhand', 'RH, Two-Handed Backhand', 'RH, Unknown Backhand', 'LH, One-Handed Backhand', 'LH, Two-Handed Backhand', 'LH, Unknown Backhand', ]\n",
    "colors = sns.color_palette('hls')\n",
    "\n",
    "pie_chart = plt.pie(counts, labels=labels, autopct='%.2f%%', colors=colors, explode=[0, 0, 0, 0, 0, 0.5], startangle=20)"
   ]
  },
  {
   "cell_type": "markdown",
   "id": "a8cd1a00-dc7f-4c6f-9667-83560f6b36a5",
   "metadata": {},
   "source": [
    "### One-handed backhanders are relatively uncommon, which makes players like Stefanos Tsitsipas stand out as a one-handed backhander in the top 10."
   ]
  },
  {
   "cell_type": "markdown",
   "id": "2607c9f6-322e-44f5-9a71-07d952bfc5bc",
   "metadata": {},
   "source": [
    "### Question: *How do seasoned pros compare to newer arrivals on the scene?*"
   ]
  },
  {
   "cell_type": "code",
   "execution_count": 17,
   "id": "8f284d0d-3b52-4013-884e-3f01a90afe62",
   "metadata": {},
   "outputs": [
    {
     "data": {
      "image/png": "[encoded data removed]",
      "text/plain": [
       "<Figure size 640x480 with 1 Axes>"
      ]
     },
     "metadata": {},
     "output_type": "display_data"
    }
   ],
   "source": [
    "years_on_tour = [2023 - year for year in df['Turned Pro']]\n",
    "df['Years on Tour'] = years_on_tour\n",
    "\n",
    "scatterplot = sns.regplot(data=df, x=df['Years on Tour'], y=df.Points)"
   ]
  },
  {
   "cell_type": "markdown",
   "id": "3959ab02-abcb-4493-a8cb-23bffbf8e716",
   "metadata": {},
   "source": [
    "### In the ATP top 1000, experience can certainly compete with youth."
   ]
  }
 ],
 "metadata": {
  "kernelspec": {
   "display_name": "Python 3 (ipykernel)",
   "language": "python",
   "name": "python3"
  },
  "language_info": {
   "codemirror_mode": {
    "name": "ipython",
    "version": 3
   },
   "file_extension": ".py",
   "mimetype": "text/x-python",
   "name": "python",
   "nbconvert_exporter": "python",
   "pygments_lexer": "ipython3",
   "version": "3.9.12"
  }
 },
 "nbformat": 4,
 "nbformat_minor": 5
}
